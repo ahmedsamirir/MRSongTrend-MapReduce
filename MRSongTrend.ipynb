{
  "nbformat": 4,
  "nbformat_minor": 0,
  "metadata": {
    "colab": {
      "provenance": [],
      "authorship_tag": "ABX9TyN3XEQMvzm9DKBtPv0ezuGZ",
      "include_colab_link": true
    },
    "kernelspec": {
      "name": "python3",
      "display_name": "Python 3"
    },
    "language_info": {
      "name": "python"
    }
  },
  "cells": [
    {
      "cell_type": "markdown",
      "metadata": {
        "id": "view-in-github",
        "colab_type": "text"
      },
      "source": [
        "<a href=\"https://colab.research.google.com/github/ahmedsamirir/MRSongTrend-MapReduce/blob/main/MRSongTrend.ipynb\" target=\"_parent\"><img src=\"https://colab.research.google.com/assets/colab-badge.svg\" alt=\"Open In Colab\"/></a>"
      ]
    },
    {
      "cell_type": "code",
      "execution_count": 2,
      "metadata": {
        "colab": {
          "base_uri": "https://localhost:8080/"
        },
        "id": "EXWlM3078tea",
        "outputId": "02fd4c4c-caee-4c94-e83b-2849ac2a1470"
      },
      "outputs": [
        {
          "output_type": "stream",
          "name": "stdout",
          "text": [
            "Random timestamps added and saved to songplays_with_random_timestamps.txt\n"
          ]
        }
      ],
      "source": [
        "import datetime\n",
        "import random\n",
        "\n",
        "def random_date(start, end):\n",
        "    \"\"\"\n",
        "    Generate a random datetime between `start` and `end` dates.\n",
        "\n",
        "    :param start: The start date.\n",
        "    :param end: The end date.\n",
        "    :return: A random datetime between `start` and `end`.\n",
        "    \"\"\"\n",
        "    return start + datetime.timedelta(\n",
        "        seconds=random.randint(0, int((end - start).total_seconds())))\n",
        "\n",
        "def add_random_timestamps_to_songs(input_file, output_file, start_date, end_date):\n",
        "    \"\"\"\n",
        "    Add random timestamps to each song in the input file and write to the output file.\n",
        "\n",
        "    :param input_file: Path to the input file containing song names.\n",
        "    :param output_file: Path to the output file to save song names with random timestamps.\n",
        "    :param start_date: The start date for generating random timestamps.\n",
        "    :param end_date: The end date for generating random timestamps.\n",
        "    \"\"\"\n",
        "    try:\n",
        "        with open(input_file, 'r') as infile, open(output_file, 'w') as outfile:\n",
        "            for line in infile:\n",
        "                song_name = line.strip()\n",
        "                if song_name:\n",
        "                    # Generate a random timestamp\n",
        "                    timestamp = random_date(start_date, end_date).strftime('%Y-%m-%d')\n",
        "                    # Write the timestamp and song name to the output file\n",
        "                    outfile.write(f\"{timestamp} {song_name}\\n\")\n",
        "        print(f\"Random timestamps added and saved to {output_file}\")\n",
        "    except Exception as e:\n",
        "        print(f\"An error occurred: {e}\")\n",
        "\n",
        "# Specify the input and output file paths\n",
        "input_file = 'songplays.txt'\n",
        "output_file = 'songplays_with_random_timestamps.txt'\n",
        "\n",
        "# Define the range for random timestamps (last year)\n",
        "start_date = datetime.datetime.now() - datetime.timedelta(days=365)\n",
        "end_date = datetime.datetime.now()\n",
        "\n",
        "# Call the function to add random timestamps to song names\n",
        "add_random_timestamps_to_songs(input_file, output_file, start_date, end_date)\n"
      ]
    },
    {
      "cell_type": "code",
      "source": [],
      "metadata": {
        "id": "B9A3uLgD9_uj"
      },
      "execution_count": null,
      "outputs": []
    }
  ]
}